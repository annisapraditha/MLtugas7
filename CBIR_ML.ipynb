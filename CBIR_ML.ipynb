{
  "nbformat": 4,
  "nbformat_minor": 0,
  "metadata": {
    "colab": {
      "name": "CBIR ML.ipynb",
      "provenance": [],
      "collapsed_sections": [],
      "authorship_tag": "ABX9TyPROEneXnqnuBI70OllREGI",
      "include_colab_link": true
    },
    "kernelspec": {
      "name": "python3",
      "display_name": "Python 3"
    },
    "language_info": {
      "name": "python"
    },
    "accelerator": "GPU"
  },
  "cells": [
    {
      "cell_type": "markdown",
      "metadata": {
        "id": "view-in-github",
        "colab_type": "text"
      },
      "source": [
        "<a href=\"https://colab.research.google.com/github/annisapraditha/MLtugas7/blob/main/CBIR_ML.ipynb\" target=\"_parent\"><img src=\"https://colab.research.google.com/assets/colab-badge.svg\" alt=\"Open In Colab\"/></a>"
      ]
    },
    {
      "cell_type": "code",
      "metadata": {
        "colab": {
          "base_uri": "https://localhost:8080/"
        },
        "id": "GusCL3OVvMd1",
        "outputId": "030f9d48-ed8a-4425-8ee9-2142e859bbb0"
      },
      "source": [
        "from google.colab import drive\n",
        "drive.mount('/content/drive')"
      ],
      "execution_count": 61,
      "outputs": [
        {
          "output_type": "stream",
          "name": "stdout",
          "text": [
            "Drive already mounted at /content/drive; to attempt to forcibly remount, call drive.mount(\"/content/drive\", force_remount=True).\n"
          ]
        }
      ]
    },
    {
      "cell_type": "code",
      "metadata": {
        "colab": {
          "base_uri": "https://localhost:8080/"
        },
        "id": "jqOZmWKfvQ-E",
        "outputId": "51e3e976-ee91-4a50-f22c-afce2aa02bfe"
      },
      "source": [
        "%cd /content/drive/My Drive/ML"
      ],
      "execution_count": 2,
      "outputs": [
        {
          "output_type": "stream",
          "name": "stdout",
          "text": [
            "/content/drive/My Drive/ML\n"
          ]
        }
      ]
    },
    {
      "cell_type": "code",
      "metadata": {
        "id": "-sct7ZFnvRAY"
      },
      "source": [
        "import os\n",
        "import zipfile\n",
        "\n",
        "local_zip = '/content/drive/MyDrive/ML/chest_xray.zip'\n",
        "zip_ref = zipfile.ZipFile(local_zip, 'r')\n",
        "zip_ref.extractall('/tmp')\n",
        "zip_ref.close()"
      ],
      "execution_count": 5,
      "outputs": []
    },
    {
      "cell_type": "code",
      "metadata": {
        "colab": {
          "base_uri": "https://localhost:8080/"
        },
        "id": "xWXOwGW8vRJD",
        "outputId": "cfd9d474-eb7a-4ab3-db80-0708a2e6972c"
      },
      "source": [
        "cd /tmp/chest_xray"
      ],
      "execution_count": 6,
      "outputs": [
        {
          "output_type": "stream",
          "name": "stdout",
          "text": [
            "/tmp/chest_xray\n"
          ]
        }
      ]
    },
    {
      "cell_type": "code",
      "metadata": {
        "colab": {
          "base_uri": "https://localhost:8080/"
        },
        "id": "IZ1vblCe7nlX",
        "outputId": "851aba9f-a16a-4767-9136-4bc19b73a341"
      },
      "source": [
        "%ls"
      ],
      "execution_count": 62,
      "outputs": [
        {
          "output_type": "stream",
          "name": "stdout",
          "text": [
            "\u001b[0m\u001b[01;34mtest\u001b[0m/  \u001b[01;34mtrain\u001b[0m/  tugasml.h5\n"
          ]
        }
      ]
    },
    {
      "cell_type": "code",
      "metadata": {
        "id": "s_paikIivRLn"
      },
      "source": [
        "import os\n",
        "import cv2\n",
        "import numpy as np \n",
        "import pandas as pd\n",
        "import matplotlib.pyplot as plt\n",
        "import seaborn as sns\n",
        "from keras.utils.np_utils import to_categorical\n",
        "from sklearn.model_selection import train_test_split\n",
        "from tensorflow import keras\n",
        "from tensorflow.keras import layers\n",
        "from keras.models import Sequential\n",
        "from tensorflow.keras.optimizers import RMSprop, Adam\n",
        "from sklearn.metrics import confusion_matrix\n",
        "from tensorflow.keras import callbacks\n",
        "from keras.callbacks import ReduceLROnPlateau\n",
        "from keras.preprocessing.image import ImageDataGenerator\n",
        "from sklearn.metrics import classification_report, confusion_matrix"
      ],
      "execution_count": 63,
      "outputs": []
    },
    {
      "cell_type": "code",
      "metadata": {
        "id": "ST5RmM216Mm8"
      },
      "source": [
        "train_dir = 'train'\n",
        "test_dir = 'test'"
      ],
      "execution_count": 64,
      "outputs": []
    },
    {
      "cell_type": "code",
      "metadata": {
        "id": "DFzo6VbavRPf"
      },
      "source": [
        "import cv2\n",
        "import numpy as np\n",
        "import os\n",
        "\n",
        "test_data = []\n",
        "test_label = []\n",
        "for r, d, f in os.walk(test_dir):\n",
        "    for file in f:\n",
        "        if \".jpeg\" in file:\n",
        "            imagePath = os.path.join(r, file)\n",
        "            image = cv2.imread(imagePath)\n",
        "            image = cv2.resize(image, (100,100))\n",
        "            test_data.append(image)\n",
        "            label = imagePath.split(os.path.sep)[-2]\n",
        "            test_label.append(label)\n",
        "\n",
        "test_data = np.array(test_data)\n",
        "test_label = np.array(test_label)"
      ],
      "execution_count": 65,
      "outputs": []
    },
    {
      "cell_type": "code",
      "metadata": {
        "id": "Tre296dy6VUm"
      },
      "source": [
        "import cv2\n",
        "import numpy as np\n",
        "import os\n",
        "\n",
        "train_data = []\n",
        "train_label = []\n",
        "for r, d, f in os.walk(train_dir):\n",
        "    for file in f:\n",
        "        if \".jpeg\" in file:\n",
        "            imagePath = os.path.join(r, file)\n",
        "            image = cv2.imread(imagePath)\n",
        "            image = cv2.resize(image, (100,100))\n",
        "            train_data.append(image)\n",
        "            label = imagePath.split(os.path.sep)[-2]\n",
        "            train_label.append(label)\n",
        "\n",
        "train_data = np.array(train_data)\n",
        "train_label = np.array(train_label)"
      ],
      "execution_count": 66,
      "outputs": []
    },
    {
      "cell_type": "code",
      "metadata": {
        "colab": {
          "base_uri": "https://localhost:8080/"
        },
        "id": "zjy45gOqwWXf",
        "outputId": "8da697c8-2ad5-4ea4-e142-d40928dff79a"
      },
      "source": [
        "print(\"Train Data = \", train_data.shape)\n",
        "print(\"Train Label = \", train_label.shape)\n",
        "print(\"Test Data = \", test_data.shape)\n",
        "print(\"Test Label = \", test_label.shape)"
      ],
      "execution_count": 67,
      "outputs": [
        {
          "output_type": "stream",
          "name": "stdout",
          "text": [
            "Train Data =  (856, 100, 100, 3)\n",
            "Train Label =  (856,)\n",
            "Test Data =  (624, 100, 100, 3)\n",
            "Test Label =  (624,)\n"
          ]
        }
      ]
    },
    {
      "cell_type": "code",
      "metadata": {
        "colab": {
          "base_uri": "https://localhost:8080/"
        },
        "id": "nlp8UH8VDzte",
        "outputId": "2fcb1c2c-ea2d-475b-cf06-7cadc8c9ac13"
      },
      "source": [
        "# Normalisasi dataset\n",
        "print(\"Data sebelum di-normalisasi \", test_data[0][0][0])\n",
        "\n",
        "x_test = test_data.astype('float32') / 255.0\n",
        "x_train = train_data.astype('float32') / 255.0\n",
        "print(\"Data setelah di-normalisasi \", x_test[0][0][0])"
      ],
      "execution_count": 69,
      "outputs": [
        {
          "output_type": "stream",
          "name": "stdout",
          "text": [
            "Data sebelum di-normalisasi  [6 6 6]\n",
            "Data setelah di-normalisasi  [0.02352941 0.02352941 0.02352941]\n"
          ]
        }
      ]
    },
    {
      "cell_type": "code",
      "metadata": {
        "colab": {
          "base_uri": "https://localhost:8080/"
        },
        "id": "I4aBpGmaD3Hs",
        "outputId": "c2ccb511-66ad-460e-a028-d5a92dc0eed4"
      },
      "source": [
        "# Transformasi label encoder\n",
        "from sklearn.preprocessing import LabelEncoder\n",
        "\n",
        "print(\"Label sebelum di-encoder \", test_label[100:110])\n",
        "\n",
        "lb = LabelEncoder()\n",
        "y_test = lb.fit_transform(test_label)\n",
        "y_train = lb.fit_transform(train_label)\n",
        "\n",
        "print(\"Label setelah di-encoder \", y_test[100:110])"
      ],
      "execution_count": 70,
      "outputs": [
        {
          "output_type": "stream",
          "name": "stdout",
          "text": [
            "Label sebelum di-encoder  ['NORMAL' 'NORMAL' 'NORMAL' 'NORMAL' 'NORMAL' 'NORMAL' 'NORMAL' 'NORMAL'\n",
            " 'NORMAL' 'NORMAL']\n",
            "Label setelah di-encoder  [0 0 0 0 0 0 0 0 0 0]\n"
          ]
        }
      ]
    },
    {
      "cell_type": "code",
      "metadata": {
        "id": "4_jOwVmnwWaF"
      },
      "source": [
        "from tensorflow.keras.preprocessing.image import ImageDataGenerator\n",
        "\n",
        "train_datagen = ImageDataGenerator(\n",
        "    rescale=1./225,\n",
        "    rotation_range=20,\n",
        "    horizontal_flip=True,\n",
        "    shear_range=0.2,\n",
        "    zoom_range=0.2,\n",
        ")\n",
        "\n",
        "val_datagen = ImageDataGenerator(\n",
        "    rescale=1./255\n",
        ")"
      ],
      "execution_count": 71,
      "outputs": []
    },
    {
      "cell_type": "code",
      "metadata": {
        "colab": {
          "base_uri": "https://localhost:8080/"
        },
        "id": "OJSPczzp-vuz",
        "outputId": "6ca87207-d1af-4f05-8391-2f0f64a2864f"
      },
      "source": [
        "train_generator = train_datagen.flow_from_directory(\n",
        "    train_dir,\n",
        "    target_size=(250,250),\n",
        "    batch_size=32,\n",
        "    class_mode='categorical',\n",
        "    color_mode='rgb',\n",
        "    shuffle=True\n",
        ")\n",
        "\n",
        "test_generator = val_datagen.flow_from_directory(\n",
        "    test_dir,\n",
        "    target_size=(250,250),\n",
        "    batch_size=32,\n",
        "    class_mode='categorical',\n",
        "    color_mode='rgb',\n",
        "    shuffle=True\n",
        ")"
      ],
      "execution_count": 72,
      "outputs": [
        {
          "output_type": "stream",
          "name": "stdout",
          "text": [
            "Found 856 images belonging to 2 classes.\n",
            "Found 624 images belonging to 2 classes.\n"
          ]
        }
      ]
    },
    {
      "cell_type": "code",
      "metadata": {
        "id": "t7ijxTrDwWj_"
      },
      "source": [
        "from tensorflow.keras.models import Sequential\n",
        "from tensorflow.keras.layers import InputLayer, Dense, Conv2D, MaxPool2D, Flatten\n",
        "# Feature Extraction Layer\n",
        "model = Sequential()\n",
        "\n",
        "model.add(InputLayer(input_shape=[100,100,3]))\n",
        "model.add(Conv2D(filters=16, kernel_size=3, strides=1, padding='same', activation='relu'))\n",
        "model.add(MaxPool2D(pool_size=2, padding='same'))\n",
        "model.add(Conv2D(filters=32, kernel_size=3, strides=1, padding='same', activation='relu'))\n",
        "model.add(MaxPool2D(pool_size=2, padding='same'))\n",
        "model.add(Conv2D(filters=64, kernel_size=3, strides=1, padding='same', activation='relu'))\n",
        "model.add(MaxPool2D(pool_size=2, padding='same'))\n",
        "model.add(Conv2D(filters=516, kernel_size=3, strides=1, padding='same', activation='relu'))\n",
        "model.add(MaxPool2D(pool_size=2, padding='same'))\n",
        "model.add(Flatten())"
      ],
      "execution_count": 77,
      "outputs": []
    },
    {
      "cell_type": "code",
      "metadata": {
        "id": "IyBCrfI-8tyA"
      },
      "source": [
        "# Fully Connected Layer\n",
        "model.add(Dense(128, activation='relu'))\n",
        "model.add(Dense(1, activation='sigmoid'))"
      ],
      "execution_count": 78,
      "outputs": []
    },
    {
      "cell_type": "code",
      "metadata": {
        "colab": {
          "base_uri": "https://localhost:8080/"
        },
        "id": "MQBUj-cN8t4U",
        "outputId": "c8fa12ba-790d-420a-ef91-1d3b286b5af5"
      },
      "source": [
        "# Print model summary\n",
        "print(model.summary())"
      ],
      "execution_count": 79,
      "outputs": [
        {
          "output_type": "stream",
          "name": "stdout",
          "text": [
            "Model: \"sequential_9\"\n",
            "_________________________________________________________________\n",
            " Layer (type)                Output Shape              Param #   \n",
            "=================================================================\n",
            " conv2d_33 (Conv2D)          (None, 100, 100, 16)      448       \n",
            "                                                                 \n",
            " max_pooling2d_33 (MaxPoolin  (None, 50, 50, 16)       0         \n",
            " g2D)                                                            \n",
            "                                                                 \n",
            " conv2d_34 (Conv2D)          (None, 50, 50, 32)        4640      \n",
            "                                                                 \n",
            " max_pooling2d_34 (MaxPoolin  (None, 25, 25, 32)       0         \n",
            " g2D)                                                            \n",
            "                                                                 \n",
            " conv2d_35 (Conv2D)          (None, 25, 25, 64)        18496     \n",
            "                                                                 \n",
            " max_pooling2d_35 (MaxPoolin  (None, 13, 13, 64)       0         \n",
            " g2D)                                                            \n",
            "                                                                 \n",
            " conv2d_36 (Conv2D)          (None, 13, 13, 516)       297732    \n",
            "                                                                 \n",
            " max_pooling2d_36 (MaxPoolin  (None, 7, 7, 516)        0         \n",
            " g2D)                                                            \n",
            "                                                                 \n",
            " flatten_8 (Flatten)         (None, 25284)             0         \n",
            "                                                                 \n",
            " dense_16 (Dense)            (None, 128)               3236480   \n",
            "                                                                 \n",
            " dense_17 (Dense)            (None, 1)                 129       \n",
            "                                                                 \n",
            "=================================================================\n",
            "Total params: 3,557,925\n",
            "Trainable params: 3,557,925\n",
            "Non-trainable params: 0\n",
            "_________________________________________________________________\n",
            "None\n"
          ]
        }
      ]
    },
    {
      "cell_type": "code",
      "metadata": {
        "colab": {
          "base_uri": "https://localhost:8080/"
        },
        "id": "nA0efU6ywWmV",
        "outputId": "cc14aada-438f-4113-a7a4-9d2e47fbcc1b"
      },
      "source": [
        "# Compile model\n",
        "from tensorflow.keras.optimizers import Adam\n",
        "\n",
        "model.compile(optimizer=Adam(lr=0.0001), \n",
        "              loss='binary_crossentropy', \n",
        "              metrics=['acc'])\n",
        "H = model.fit(x_test, y_test, batch_size=20, epochs=15, validation_data=(x_train, y_train))"
      ],
      "execution_count": 81,
      "outputs": [
        {
          "output_type": "stream",
          "name": "stderr",
          "text": [
            "/usr/local/lib/python3.7/dist-packages/keras/optimizer_v2/adam.py:105: UserWarning: The `lr` argument is deprecated, use `learning_rate` instead.\n",
            "  super(Adam, self).__init__(name, **kwargs)\n"
          ]
        },
        {
          "output_type": "stream",
          "name": "stdout",
          "text": [
            "Epoch 1/15\n",
            "32/32 [==============================] - 14s 422ms/step - loss: 0.3187 - acc: 0.8814 - val_loss: 0.3691 - val_acc: 0.8364\n",
            "Epoch 2/15\n",
            "32/32 [==============================] - 13s 415ms/step - loss: 0.2849 - acc: 0.8878 - val_loss: 0.2825 - val_acc: 0.9136\n",
            "Epoch 3/15\n",
            "32/32 [==============================] - 13s 419ms/step - loss: 0.2441 - acc: 0.8990 - val_loss: 0.2744 - val_acc: 0.8960\n",
            "Epoch 4/15\n",
            "32/32 [==============================] - 13s 418ms/step - loss: 0.2212 - acc: 0.9103 - val_loss: 0.2887 - val_acc: 0.8879\n",
            "Epoch 5/15\n",
            "32/32 [==============================] - 13s 419ms/step - loss: 0.2072 - acc: 0.9151 - val_loss: 0.2817 - val_acc: 0.8773\n",
            "Epoch 6/15\n",
            "32/32 [==============================] - 13s 416ms/step - loss: 0.1836 - acc: 0.9279 - val_loss: 0.2890 - val_acc: 0.8750\n",
            "Epoch 7/15\n",
            "32/32 [==============================] - 13s 416ms/step - loss: 0.2030 - acc: 0.9215 - val_loss: 0.2640 - val_acc: 0.8972\n",
            "Epoch 8/15\n",
            "32/32 [==============================] - 13s 417ms/step - loss: 0.1650 - acc: 0.9439 - val_loss: 0.2453 - val_acc: 0.9077\n",
            "Epoch 9/15\n",
            "32/32 [==============================] - 13s 418ms/step - loss: 0.1606 - acc: 0.9439 - val_loss: 0.2591 - val_acc: 0.9065\n",
            "Epoch 10/15\n",
            "32/32 [==============================] - 13s 417ms/step - loss: 0.1549 - acc: 0.9391 - val_loss: 0.2682 - val_acc: 0.8879\n",
            "Epoch 11/15\n",
            "32/32 [==============================] - 13s 416ms/step - loss: 0.1826 - acc: 0.9359 - val_loss: 0.3164 - val_acc: 0.8598\n",
            "Epoch 12/15\n",
            "32/32 [==============================] - 13s 416ms/step - loss: 0.1443 - acc: 0.9551 - val_loss: 0.2541 - val_acc: 0.9112\n",
            "Epoch 13/15\n",
            "32/32 [==============================] - 13s 418ms/step - loss: 0.1313 - acc: 0.9567 - val_loss: 0.2399 - val_acc: 0.8995\n",
            "Epoch 14/15\n",
            "32/32 [==============================] - 13s 418ms/step - loss: 0.1239 - acc: 0.9583 - val_loss: 0.2580 - val_acc: 0.8902\n",
            "Epoch 15/15\n",
            "32/32 [==============================] - 13s 418ms/step - loss: 0.1316 - acc: 0.9471 - val_loss: 0.2684 - val_acc: 0.8902\n"
          ]
        }
      ]
    },
    {
      "cell_type": "code",
      "metadata": {
        "colab": {
          "base_uri": "https://localhost:8080/"
        },
        "id": "xNlrIrheBtyx",
        "outputId": "b44e72c9-c862-43ac-9596-2ae9432369a9"
      },
      "source": [
        "print(\"waktu = \", time.time() - start, \"detik\")"
      ],
      "execution_count": 82,
      "outputs": [
        {
          "output_type": "stream",
          "name": "stdout",
          "text": [
            "waktu =  1521.9028732776642 detik\n"
          ]
        }
      ]
    },
    {
      "cell_type": "code",
      "metadata": {
        "colab": {
          "base_uri": "https://localhost:8080/",
          "height": 581
        },
        "id": "4PkdY3vHwWow",
        "outputId": "778df802-8bcd-42d6-93e8-60d2db00d4b5"
      },
      "source": [
        "%matplotlib inline\n",
        "\n",
        "import matplotlib.pyplot as plt\n",
        "\n",
        "plt.style.use(\"ggplot\")\n",
        "plt.figure()\n",
        "plt.plot(np.arange(0, 15), H.history[\"loss\"], label=\"train_loss\")\n",
        "plt.plot(np.arange(0, 15), H.history[\"val_loss\"], label=\"val_loss\")\n",
        "plt.title(\"Loss Plot\")\n",
        "plt.xlabel(\"Epoch #\")\n",
        "plt.ylabel(\"Loss\")\n",
        "plt.legend()\n",
        "plt.show()\n",
        "\n",
        "plt.style.use(\"ggplot\")\n",
        "plt.figure()\n",
        "plt.plot(np.arange(0, 15), H.history[\"acc\"], label=\"train_acc\")\n",
        "plt.plot(np.arange(0, 15), H.history[\"val_acc\"], label=\"val_acc\")\n",
        "plt.title(\"Accuracy Plot\")\n",
        "plt.xlabel(\"Epoch #\")\n",
        "plt.ylabel(\"Acc\")\n",
        "plt.legend()\n",
        "plt.show()"
      ],
      "execution_count": 83,
      "outputs": [
        {
          "output_type": "display_data",
          "data": {
            "image/png": "[encoded data removed]",
            "text/plain": [
              "<Figure size 432x288 with 1 Axes>"
            ]
          },
          "metadata": {}
        },
        {
          "output_type": "display_data",
          "data": {
            "image/png": "[encoded data removed]",
            "text/plain": [
              "<Figure size 432x288 with 1 Axes>"
            ]
          },
          "metadata": {}
        }
      ]
    },
    {
      "cell_type": "code",
      "metadata": {
        "colab": {
          "base_uri": "https://localhost:8080/"
        },
        "id": "eUB3YkbWwWq1",
        "outputId": "09565121-1468-4550-ae0a-c856786c4ea2"
      },
      "source": [
        "from sklearn.metrics import classification_report\n",
        "\n",
        "pred = model.predict(x_train)\n",
        "labels = (pred > 0.5).astype(np.int)\n",
        "\n",
        "print(classification_report(y_train, labels))"
      ],
      "execution_count": 84,
      "outputs": [
        {
          "output_type": "stream",
          "name": "stdout",
          "text": [
            "              precision    recall  f1-score   support\n",
            "\n",
            "           0       0.83      0.94      0.88       374\n",
            "           1       0.95      0.85      0.90       482\n",
            "\n",
            "    accuracy                           0.89       856\n",
            "   macro avg       0.89      0.90      0.89       856\n",
            "weighted avg       0.90      0.89      0.89       856\n",
            "\n"
          ]
        }
      ]
    },
    {
      "cell_type": "code",
      "metadata": {
        "id": "qEIlFPKbEi2k"
      },
      "source": [
        "from keras.models import save_model\n",
        "model = save_model(model,'tugasml(1).h5')"
      ],
      "execution_count": 85,
      "outputs": []
    },
    {
      "cell_type": "code",
      "metadata": {
        "id": "YkC-q3dbDZG5"
      },
      "source": [
        ""
      ],
      "execution_count": null,
      "outputs": []
    }
  ]
}